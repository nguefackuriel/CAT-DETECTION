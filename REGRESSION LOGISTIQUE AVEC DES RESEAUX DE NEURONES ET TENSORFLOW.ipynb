{
 "cells": [
  {
   "cell_type": "markdown",
   "metadata": {},
   "source": [
    "# Regression logistique avec les reseaux de neurones et Tensorflow\n",
    "\n",
    "Le but de ce travail est de créer un modèle de reseaux de neurones avec Tensorflow pour reconnaitre si une image est celle d'un chat ou pas.\n",
    "\n",
    "Let's Start!!\n",
    "\n",
    "**Instructions:**\n",
    "- N'utilisez pas de boucles (for/while) dans votre code, à moins que les instructions ne vous le demandent explicitement.\n",
    "\n",
    "**Vous allez apprendre à:**\n",
    "- Construire l'architecture générale d'un algorithme d'apprentissage, comprenant :\n",
    "     - Initialisation des paramètres\n",
    "     - Calcul de la fonction de coût et de son gradient\n",
    "     - Utilisation d'un algorithme d'optimisation (descente de gradient)\n",
    "- Rassemblez les trois fonctions ci-dessus dans une fonction de modèle principale, dans le bon ordre.\n",
    "- Testez avec votre propre image"
   ]
  },
  {
   "cell_type": "markdown",
   "metadata": {},
   "source": [
    "## 1 - Packages ##\n",
    "\n",
    "Tout d'abord, exécutons la cellule ci-dessous pour importer tous les packages dont vous aurez besoin pendant cette mission.\n",
    "- [numpy](www.numpy.org) est le package fondamental pour le calcul scientifique avec Python.\n",
    "- [h5py](http://www.h5py.org) est un package courant pour interagir avec un ensemble de données stocké dans un fichier H5.\n",
    "- [matplotlib](http://matplotlib.org) est une bibliothèque célèbre pour tracer des graphiques en Python.\n",
    "- [PIL](http://www.pythonware.com/products/pil/) et [scipy](https://www.scipy.org/) sont utilisés ici pour tester votre modèle avec votre propre photo à la fin ."
   ]
  },
  {
   "cell_type": "markdown",
   "metadata": {},
   "source": [
    "- Installer la version 1.15 de tensorflow avec la commande suivante: pip install tensorflow==1.15\n",
    "\n",
    "- Installer la version 3.4.2 de open cv avec les lignes de commande suivante: pip install opencv-python==3.4.2.17, dès que c'est terminé exécuter aussi pip install opencv-contrib-python==3.4.2.17 "
   ]
  },
  {
   "cell_type": "code",
   "execution_count": 98,
   "metadata": {},
   "outputs": [],
   "source": [
    "import numpy as np\n",
    "import matplotlib.pyplot as plt\n",
    "import h5py\n",
    "import math\n",
    "from math import *\n",
    "import scipy\n",
    "\n",
    "\n",
    "import tensorflow as tf\n",
    "from tensorflow.python.framework import ops\n",
    "\n",
    "from PIL import Image\n",
    "from tf_utils import load_dataset, random_mini_batches, convert_to_one_hot, predict\n",
    "\n",
    "%matplotlib inline\n",
    "np.random.seed(1)"
   ]
  },
  {
   "cell_type": "markdown",
   "metadata": {},
   "source": [
    "## 2 - Aperçu de l'ensemble de problèmes ##\n",
    "\n",
    "**Énoncé du problème** : vous recevez un ensemble de données (\"data.h5\") contenant :\n",
    "     - un ensemble d'apprentissage d'images m_train étiquetées comme chat (y=1) ou non-chat (y=0)\n",
    "     - un ensemble de test d'images m_test étiquetées comme chat ou non-chat\n",
    "     - chaque image est de forme (num_px, num_px, 3) où 3 est pour les 3 canaux (RVB). Ainsi, chaque image est carrée (hauteur = num_px) et (largeur = num_px).\n",
    "\n",
    "Vous allez créer un algorithme de reconnaissance d'image simple qui peut correctement classer les images comme chat ou non-chat.\n",
    "\n",
    "Familiarisons-nous avec l'ensemble de données. Chargez les données en exécutant le code suivant."
   ]
  },
  {
   "cell_type": "code",
   "execution_count": 99,
   "metadata": {},
   "outputs": [],
   "source": [
    "# Chargement des données (cat/non-cat)\n",
    "train_set_x_orig, train_set_y, test_set_x_orig, test_set_y, classes = load_dataset()"
   ]
  },
  {
   "cell_type": "markdown",
   "metadata": {},
   "source": [
    "Nous avons ajouté \"_orig\" à la fin des jeux de données d'images (train et test) car nous allons les prétraiter. Après le prétraitement, nous nous retrouverons avec train_set_x et test_set_x (les étiquettes train_set_y et test_set_y n'ont besoin d'aucun prétraitement).\n",
    "\n",
    "Chaque ligne de votre train_set_x_orig et test_set_x_orig est un tableau représentant une image. Vous pouvez visualiser un exemple en exécutant le code suivant. N'hésitez pas également à modifier la valeur `index` et à réexécuter pour voir d'autres images."
   ]
  },
  {
   "cell_type": "code",
   "execution_count": 100,
   "metadata": {},
   "outputs": [
    {
     "name": "stdout",
     "output_type": "stream",
     "text": [
      "y = [0], it's a 'non-cat' picture.\n"
     ]
    },
    {
     "data": {
      "image/png": "[encoded data removed]",
      "text/plain": [
       "<Figure size 432x288 with 1 Axes>"
      ]
     },
     "metadata": {
      "needs_background": "light"
     },
     "output_type": "display_data"
    }
   ],
   "source": [
    "# Exemple d'exemple\n",
    "\n",
    "index = 5\n",
    "plt.imshow(train_set_x_orig[index])\n",
    "print (\"y = \" + str(train_set_y[:, index]) + \", it's a '\" + classes[np.squeeze(train_set_y[:, index])].decode(\"utf-8\") +  \"' picture.\")"
   ]
  },
  {
   "cell_type": "markdown",
   "metadata": {},
   "source": [
    "De nombreux bogues logiciels dans l'apprentissage en profondeur proviennent d'avoir des dimensions matrice/vecteur qui ne correspondent pas. Si vous pouvez garder les dimensions de votre matrice/vecteur droites, vous contribuerez grandement à éliminer de nombreux bogues.\n",
    "\n",
    "**Exercice :** Trouvez les valeurs pour :\n",
    "     - m_train (nombre d'exemples de formation)\n",
    "     - m_test (nombre d'exemples de test)\n",
    "     - num_px (= hauteur = largeur d'une image d'entraînement)\n",
    "N'oubliez pas que `train_set_x_orig` est un tableau numpy de forme (m_train, num_px, num_px, 3). Par exemple, vous pouvez accéder à `m_train` en écrivant `train_set_x_orig.shape[0]`."
   ]
  },
  {
   "cell_type": "code",
   "execution_count": 101,
   "metadata": {
    "scrolled": true
   },
   "outputs": [
    {
     "name": "stdout",
     "output_type": "stream",
     "text": [
      "Nombre d'exemples de formation: m_train = 209\n",
      "Nombre d'exemples de test: m_test = 50\n",
      "Hauteur/Largeur de chaque image: num_px = 64\n",
      "Chaque image est de taille: (64, 64, 3)\n",
      "taille train_set_x : (209, 64, 64, 3)\n",
      "taille train_set_y : (1, 209)\n",
      "taille test_set_x : (50, 64, 64, 3)\n",
      "taille test_set_y : (1, 50)\n"
     ]
    }
   ],
   "source": [
    "\n",
    "m_train = train_set_x_orig.shape[0]\n",
    "m_test = test_set_x_orig.shape[0]\n",
    "num_px = train_set_x_orig.shape[2]\n",
    "\n",
    "\n",
    "print (\"Nombre d'exemples de formation: m_train = \" + str(m_train))\n",
    "print (\"Nombre d'exemples de test: m_test = \" + str(m_test))\n",
    "print (\"Hauteur/Largeur de chaque image: num_px = \" + str(num_px))\n",
    "print (\"Chaque image est de taille: (\" + str(num_px) + \", \" + str(num_px) + \", 3)\")\n",
    "print (\"taille train_set_x : \" + str(train_set_x_orig.shape))\n",
    "print (\"taille train_set_y : \" + str(train_set_y.shape))\n",
    "print (\"taille test_set_x : \" + str(test_set_x_orig.shape))\n",
    "print (\"taille test_set_y : \" + str(test_set_y.shape))"
   ]
  },
  {
   "cell_type": "markdown",
   "metadata": {},
   "source": [
    "Pour plus de commodité, vous devez maintenant remodeler les images de forme (num_px, num_px, 3) dans un tableau numpy de forme (num_px $*$ num_px $*$ 3, 1). Après cela, notre ensemble de données d'entraînement (et de test) est un tableau numpy où chaque colonne représente une image aplatie. Il devrait y avoir des colonnes m_train (respectivement m_test).\n",
    "\n",
    "**Exercice :** Remodelez les ensembles de données d'entraînement et de test afin que les images de taille (num_px, num_px, 3) soient aplaties en vecteurs de forme uniques (num\\_px $*$ num\\_px $*$ 3, 1).\n",
    "\n",
    "Une astuce pour aplatir une matrice X de forme (a,b,c,d) en une matrice X_flatten de forme (b$*$c$*$d, a) est d'utiliser :\n",
    "```python\n",
    "X_flatten = X.reshape(X.shape[0], -1).T # X.T est la transposée de X\n",
    "```\n",
    "En plus de cela, vous convertirez chaque étiquette en un vecteur unique, comme le montre la figure 1. Exécutez la cellule ci-dessous pour le faire."
   ]
  },
  {
   "cell_type": "code",
   "execution_count": 102,
   "metadata": {},
   "outputs": [
    {
     "name": "stdout",
     "output_type": "stream",
     "text": [
      "number of training examples = 209\n",
      "number of test examples = 50\n",
      "X_train shape: (12288, 209)\n",
      "Y_train shape: (2, 209)\n",
      "X_test shape: (12288, 50)\n",
      "Y_test shape: (2, 50)\n"
     ]
    }
   ],
   "source": [
    "# Flatten the training and test images\n",
    "X_train_flatten = train_set_x_orig.reshape(train_set_x_orig.shape[0], -1).T\n",
    "X_test_flatten = test_set_x_orig.reshape(test_set_x_orig.shape[0], -1).T\n",
    "# Normalize image vectors\n",
    "X_train = X_train_flatten/255.\n",
    "X_test = X_test_flatten/255.\n",
    "# Convert training and test labels to one hot matrices\n",
    "Y_train = convert_to_one_hot(train_set_y, 2)\n",
    "Y_test = convert_to_one_hot(test_set_y, 2)\n",
    "\n",
    "print (\"number of training examples = \" + str(X_train.shape[1]))\n",
    "print (\"number of test examples = \" + str(X_test.shape[1]))\n",
    "print (\"X_train shape: \" + str(X_train.shape))\n",
    "print (\"Y_train shape: \" + str(Y_train.shape))\n",
    "print (\"X_test shape: \" + str(X_test.shape))\n",
    "print (\"Y_test shape: \" + str(Y_test.shape))"
   ]
  },
  {
   "cell_type": "markdown",
   "metadata": {},
   "source": [
    "**Notez** que 12288 vient de $64 \\times 64 \\times 3$. Chaque image est carrée, 64 par 64 pixels, et 3 est pour les couleurs RVB. Veuillez vous assurer que toutes ces formes ont un sens pour vous avant de continuer.\n",
    "\n",
    "Pour représenter des images en couleur, les canaux rouge, vert et bleu (RVB) doivent être spécifiés pour chaque pixel, et donc la valeur du pixel est en fait un vecteur de trois nombres allant de 0 à 255.\n",
    "\n",
    "Une étape de prétraitement courante dans l'apprentissage automatique consiste à centrer et à normaliser votre ensemble de données, ce qui signifie que vous soustrayez la moyenne de l'ensemble du tableau numpy de chaque exemple, puis divisez chaque exemple par l'écart type de l'ensemble du tableau numpy. Mais pour les ensembles de données d'images, il est plus simple et plus pratique et fonctionne presque aussi bien de simplement diviser chaque ligne de l'ensemble de données par 255 (la valeur maximale d'un canal de pixel).\n",
    "\n",
    "<!-- Lors de l'apprentissage de votre modèle, vous allez multiplier les poids et ajouter des biais à certaines entrées initiales afin d'observer les activations des neurones. Ensuite, vous effectuez une rétropropagation avec les dégradés pour entraîner le modèle. Mais, il est extrêmement important que chaque fonctionnalité ait une plage similaire afin que nos dégradés n'explosent pas. Vous verrez cela plus en détail plus tard dans les conférences. !-->\n",
    "\n",
    "Standardisons notre jeu de données."
   ]
  },
  {
   "cell_type": "code",
   "execution_count": 103,
   "metadata": {},
   "outputs": [],
   "source": [
    "X_train = X_train_flatten/255.\n",
    "X_test = X_test_flatten/255."
   ]
  },
  {
   "cell_type": "markdown",
   "metadata": {},
   "source": [
    "<font color='bleu'>\n",
    "**Ce que vous devez retenir :**\n",
    "\n",
    "Les étapes courantes du prétraitement d'un nouvel ensemble de données sont :\n",
    "- Déterminer les dimensions et les formes du problème (m_train, m_test, num_px, ...)\n",
    "- Remodeler les jeux de données de telle sorte que chaque exemple soit désormais un vecteur de taille (num_px \\* num_px \\* 3, 1)\n",
    "- \"Standardiser\" les données"
   ]
  },
  {
   "cell_type": "markdown",
   "metadata": {},
   "source": [
    "### 2.1 - Créer des espaces réservés\n",
    "\n",
    "Votre première tâche consiste à créer des espaces réservés pour « X » et « Y ». Cela vous permettra de transmettre plus tard vos données d'entraînement lorsque vous exécutez votre session.\n",
    "\n",
    "**Exercice :** implémentez la fonction ci-dessous pour créer les espaces réservés dans tensorflow."
   ]
  },
  {
   "cell_type": "code",
   "execution_count": 104,
   "metadata": {},
   "outputs": [],
   "source": [
    "#  FONCTION: create_placeholders\n",
    "\n",
    "def create_placeholders(n_x, n_y):\n",
    "    \"\"\"\n",
    "    Crée les espaces réservés pour la session tensorflow.\n",
    "    \n",
    "    Arguments:\n",
    "     n_x -- scalaire, taille d'un vecteur d'image (num_px * num_px = 64 * 64 * 3 = 12288)\n",
    "     n_y -- scalaire, nombre de classes (de 0 à 1, donc -> 2)\n",
    "    \n",
    "     Retour:\n",
    "     X -- espace réservé pour l'entrée de données, de forme [n_x, None] et de type \"tf.float32\"\n",
    "     Y -- espace réservé pour les étiquettes d'entrée, de forme [n_y, None] et de type \"tf.float32\"\n",
    "    \n",
    "     Conseils:\n",
    "     - Vous utiliserez None car cela nous permet d'être flexibles sur le nombre d'exemples que vous utiliserez pour les espaces réservés.\n",
    "       En fait, le nombre d'exemples pendant le test/train est différent.\n",
    "     \"\"\"\n",
    "\n",
    "   \n",
    "    X = tf.placeholder(tf.float32, shape = [n_x, None], name = \"X\")\n",
    "    Y = tf.placeholder(tf.float32, shape = [n_y, None], name = \"Y\")\n",
    "   \n",
    "    \n",
    "    return X, Y"
   ]
  },
  {
   "cell_type": "code",
   "execution_count": 105,
   "metadata": {},
   "outputs": [
    {
     "name": "stdout",
     "output_type": "stream",
     "text": [
      "X = Tensor(\"X_1:0\", shape=(12288, ?), dtype=float32)\n",
      "Y = Tensor(\"Y_1:0\", shape=(2, ?), dtype=float32)\n"
     ]
    }
   ],
   "source": [
    "X, Y = create_placeholders(12288, 2)\n",
    "print (\"X = \" + str(X))\n",
    "print (\"Y = \" + str(Y))"
   ]
  },
  {
   "cell_type": "code",
   "execution_count": 106,
   "metadata": {},
   "outputs": [
    {
     "name": "stdout",
     "output_type": "stream",
     "text": [
      "1.15.0\n"
     ]
    }
   ],
   "source": [
    "import tensorflow\n",
    "print(tensorflow.__version__)"
   ]
  },
  {
   "cell_type": "code",
   "execution_count": 107,
   "metadata": {},
   "outputs": [
    {
     "name": "stdout",
     "output_type": "stream",
     "text": [
      "6\n"
     ]
    }
   ],
   "source": [
    "# Changer la valeur de x dans le feed_dict\n",
    "sess = tf.Session()\n",
    "x = tf.placeholder(tf.int64, name = 'x')\n",
    "print(sess.run(2 * x, feed_dict = {x: 3}))\n",
    "sess.close()"
   ]
  },
  {
   "cell_type": "markdown",
   "metadata": {},
   "source": [
    "## 3 - Architecture générale de l'algorithme d'apprentissage ##\n",
    "\n",
    "Il est temps de concevoir un algorithme simple pour distinguer les images de chat des images de non-chat.\n",
    "\n",
    "Vous allez construire une régression logistique, en utilisant un état d'esprit de réseau neuronal. La figure suivante explique pourquoi **La régression logistique est en fait un réseau de neurones très simple !**\n",
    "\n",
    "<img src=\"images/LogReg_kiank.png\" style=\"width:650px;height:400px;\">\n",
    "\n",
    "**Expression mathématique de l'algorithme** :\n",
    "\n",
    "Pour un exemple $x^{(i)}$:\n",
    "$$z^{(i)} = w^T x^{(i)} + b \\tag{1}$$\n",
    "$$\\hat{y}^{(i)} = a^{(i)} = sigmoid(z^{(i)})\\tag{2}$$ \n",
    "$$ \\mathcal{L}(a^{(i)}, y^{(i)}) =  - y^{(i)}  \\log(a^{(i)}) - (1-y^{(i)} )  \\log(1-a^{(i)})\\tag{3}$$\n",
    "\n",
    "Le coût est ensuite calculé en additionnant tous les exemples de formation :\n",
    "$$ J = \\frac{1}{m} \\sum_{i=1}^m \\mathcal{L}(a^{(i)}, y^{(i)})\\tag{6}$$\n",
    "\n",
    "**Étapes clés** :\n",
    "Dans cet exercice, vous effectuerez les étapes suivantes :\n",
    "     - Initialiser les paramètres du modèle\n",
    "     - Apprendre les paramètres du modèle en minimisant le coût\n",
    "     - Utiliser les paramètres appris pour faire des prédictions (sur l'ensemble de test)\n",
    "     - Analyser les résultats et conclure"
   ]
  },
  {
   "cell_type": "markdown",
   "metadata": {},
   "source": [
    "## 4 - Construire les parties de notre algorithme ##\n",
    "\n",
    "Les principales étapes de la construction d'un réseau de neurones sont :\n",
    "1. Définir la structure du modèle (comme le nombre d'entités en entrée)\n",
    "2. Initialiser les paramètres du modèle\n",
    "3. Boucle :\n",
    "     - Calculer la perte de courant (propagation directe)\n",
    "     - Calculer le gradient de courant (propagation vers l'arrière)\n",
    "     - Mettre à jour les paramètres (descente de gradient)\n",
    "\n",
    "Vous construisez souvent 1-3 séparément et les intégrez dans une fonction que nous appelons `model()`.\n",
    "\n",
    "### 4.1 - Calcul du sigmoïde\n",
    "\n",
    "Tensorflow offre une variété de fonctions de réseau de neurones couramment utilisées, telles que « tf.sigmoid » et « tf.softmax ». Pour cet exercice, calculons la fonction sigmoïde d'une entrée.\n",
    "\n",
    "Vous ferez cet exercice en utilisant une variable d'espace réservé « x ». Lors de l'exécution de la session, vous devez utiliser le dictionnaire de flux pour transmettre l'entrée « z ». Dans cet exercice, vous devrez (i) créer un espace réservé « x », (ii) définir les opérations nécessaires pour calculer le sigmoïde à l'aide de « tf.sigmoïd », puis (iii) exécuter la session.\n",
    "\n",
    "** Exercice ** : Implémentez la fonction sigmoïde ci-dessous. Vous devez utiliser les éléments suivants :\n",
    "\n",
    "- `tf.placeholder(tf.float32, name = \"...\")`\n",
    "- `tf.sigmoïd(...)`\n",
    "- `sess.run(..., feed_dict = {x:z})`\n",
    "\n",
    "\n",
    "Notez qu'il existe deux manières typiques de créer et d'utiliser des sessions dans tensorflow :\n",
    "\n",
    "**Méthode 1 :**\n",
    "```python\n",
    "sess = tf.Session()\n",
    "# Exécutez l'initialisation des variables (si nécessaire), exécutez les opérations\n",
    "résultat = sess.run(..., feed_dict = {...})\n",
    "sess.close() # Ferme la session\n",
    "```\n",
    "**Méthode 2:**\n",
    "```python\n",
    "with tf.Session() as session :\n",
    "    # lance l'initialisation des variables (si besoin), lance les opérations\n",
    "    résultat = sess.run(..., feed_dict = {...})\n",
    "    # Ceci s'occupe de clôturer la session pour vous :)\n",
    "```"
   ]
  },
  {
   "cell_type": "code",
   "execution_count": 108,
   "metadata": {},
   "outputs": [],
   "source": [
    "# FONCTION: sigmoid\n",
    "\n",
    "def sigmoid(z):\n",
    "    \"\"\"\n",
    "    Calculer la sigmoide de z\n",
    "\n",
    "    Arguments:\n",
    "    z -- Un scalaire ou un tableau numpy de n'importe quelle taille.\n",
    "\n",
    "    Return:\n",
    "    s -- sigmoid(z)\n",
    "    \"\"\"\n",
    "\n",
    "   \n",
    "     # Créez un espace réservé pour x. Nommez-le « x ».\n",
    "    x = tf.placeholder(tf.float32, name = \"x\")\n",
    "\n",
    "     # calcule sigmoïde(x)\n",
    "    y = tf.sigmoid(x)\n",
    "\n",
    "     # Créez une session et exécutez-la. Veuillez utiliser la méthode 2 expliquée ci-dessus.\n",
    "     # Vous devez utiliser un feed_dict pour passer la valeur de z à x.\n",
    "    with tf.Session() as sess:\n",
    "         # Exécutez la session et appelez la sortie \"résultat\"\n",
    "        result = sess.run(y, feed_dict = {x:z})\n",
    "\n",
    "    \n",
    "    \n",
    "    return result"
   ]
  },
  {
   "cell_type": "code",
   "execution_count": 109,
   "metadata": {
    "scrolled": true
   },
   "outputs": [
    {
     "name": "stdout",
     "output_type": "stream",
     "text": [
      "sigmoid(0) = 0.5\n",
      "sigmoid(12) = 0.9999938\n"
     ]
    }
   ],
   "source": [
    "print (\"sigmoid(0) = \" + str(sigmoid(0)))\n",
    "print (\"sigmoid(12) = \" + str(sigmoid(12)))"
   ]
  },
  {
   "cell_type": "markdown",
   "metadata": {},
   "source": [
    "\n",
    "### 4.2 - Initialisation des paramètres\n",
    "\n",
    "Votre deuxième tâche consiste à initialiser les paramètres dans tensorflow.\n",
    "\n",
    "**Exercice :** Implémentez la fonction ci-dessous pour initialiser les paramètres dans tensorflow. Vous allez utiliser l'initialisation Xavier pour les poids et l'initialisation zéro pour les biais. Les formes sont données ci-dessous. A titre d'exemple, pour vous aider, pour W1 et b1, vous pouvez utiliser :\n",
    "\n",
    "```python\n",
    "W1 = tf.get_variable(\"W1\", [25,12288], initialiseur = tf.contrib.layers.xavier_initializer(seed = 1))\n",
    "b1 = tf.get_variable(\"b1\", [25,1], initialiseur = tf.zeros_initializer())\n",
    "```\n",
    "Veuillez utiliser `seed = 1` pour vous assurer que vos résultats correspondent aux nôtres."
   ]
  },
  {
   "cell_type": "code",
   "execution_count": 110,
   "metadata": {},
   "outputs": [],
   "source": [
    "# FONCTION: initialize_parameters\n",
    "\n",
    "def initialize_parameters():\n",
    "    \"\"\"\n",
    "     Initialisez les paramètres pour construire un réseau de neurones avec tensorflow. Les formes sont :\n",
    "                         W1 : [25, 12288]\n",
    "                         b1 : [25, 1]\n",
    "                         W2 : [12, 25]\n",
    "                         b2 : [12, 1]\n",
    "                         W3 : [2, 12]\n",
    "                         b3 : [2, 1]\n",
    "    \n",
    "     Return:\n",
    "     paramètres -- un dictionnaire de tenseurs contenant W1, b1, W2, b2, W3, b3\n",
    "     \"\"\"\n",
    "    \n",
    "    tf1.set_random_seed(1)                   # pour que vos nombres \"aléatoires\" correspondent aux nôtres\n",
    "        \n",
    "    \n",
    "    W1 = tf1.get_variable('W1', [25,12288], initializer = tf2.contrib.layers.xavier_initializer(seed = 1))\n",
    "    b1 = tf1.get_variable('b1', [25,1], initializer = tf1.zeros_initializer())\n",
    "    W2 = tf1.get_variable('W2', [12,25], initializer = tf2.contrib.layers.xavier_initializer(seed = 1))\n",
    "    b2 = tf1.get_variable('b2', [12,1], initializer = tf1.zeros_initializer())\n",
    "    W3 = tf1.get_variable('W3', [2,12], initializer = tf2.contrib.layers.xavier_initializer(seed = 1))\n",
    "    b3 = tf1.get_variable('b3', [2,1], initializer = tf1.zeros_initializer())\n",
    "  \n",
    "\n",
    "    parameters = {\"W1\": W1,\n",
    "                  \"b1\": b1,\n",
    "                  \"W2\": W2,\n",
    "                  \"b2\": b2,\n",
    "                  \"W3\": W3,\n",
    "                  \"b3\": b3}\n",
    "    \n",
    "    return parameters"
   ]
  },
  {
   "cell_type": "code",
   "execution_count": 111,
   "metadata": {},
   "outputs": [
    {
     "name": "stdout",
     "output_type": "stream",
     "text": [
      "W1 = <tf.Variable 'W1:0' shape=(25, 12288) dtype=float32_ref>\n",
      "b1 = <tf.Variable 'b1:0' shape=(25, 1) dtype=float32_ref>\n",
      "W2 = <tf.Variable 'W2:0' shape=(12, 25) dtype=float32_ref>\n",
      "b2 = <tf.Variable 'b2:0' shape=(12, 1) dtype=float32_ref>\n"
     ]
    }
   ],
   "source": [
    "tf1.reset_default_graph()\n",
    "with tf1.Session() as sess:\n",
    "    parameters = initialize_parameters()\n",
    "    print(\"W1 = \" + str(parameters[\"W1\"]))\n",
    "    print(\"b1 = \" + str(parameters[\"b1\"]))\n",
    "    print(\"W2 = \" + str(parameters[\"W2\"]))\n",
    "    print(\"b2 = \" + str(parameters[\"b2\"]))"
   ]
  },
  {
   "cell_type": "markdown",
   "metadata": {},
   "source": [
    "### 4.3 - Propagation vers l'avant dans le tensorflow\n",
    "\n",
    "Vous allez maintenant implémenter le module de propagation vers l'avant dans tensorflow. La fonction prendra un dictionnaire de paramètres et terminera la passe avant. Les fonctions que vous utiliserez sont :\n",
    "\n",
    "- `tf.add(...,...)` pour faire un ajout\n",
    "- `tf.matmul(...,...)` pour faire une multiplication matricielle\n",
    "- `tf.nn.relu(...)` pour appliquer l'activation ReLU\n",
    "\n",
    "**Question :** implémentez la transmission directe du réseau de neurones. Nous avons commenté pour vous les équivalents de numpy afin que vous puissiez comparer l'implémentation de tensorflow à numpy. Il est important de noter que la propagation vers l'avant s'arrête à \"z3\". La raison en est que dans le flux tensoriel, la dernière sortie de couche linéaire est donnée en entrée à la fonction calculant la perte. Par conséquent, vous n'avez pas besoin de « a3 » !"
   ]
  },
  {
   "cell_type": "code",
   "execution_count": 112,
   "metadata": {},
   "outputs": [],
   "source": [
    "## FONCTION: forward_propagation\n",
    "\n",
    "def forward_propagation(X, parameters):\n",
    "    \"\"\"\n",
    "     Implémente la propagation vers l'avant pour le modèle : LINEAR -> RELU -> LINEAR -> RELU -> LINEAR -> SIGMOID\n",
    "    \n",
    "     Arguments:\n",
    "     X -- espace réservé pour l'ensemble de données d'entrée, de forme (taille d'entrée, nombre d'exemples)\n",
    "     paramètres -- dictionnaire python contenant vos paramètres \"W1\", \"b1\", \"W2\", \"b2\", \"W3\", \"b3\"\n",
    "                   les formes sont données dans initialize_parameters\n",
    "\n",
    "     Retour:\n",
    "     Z3 -- la sortie de la dernière unité LINEAR\n",
    "     \"\"\"\n",
    "    \n",
    "    # Récupérer les paramètres du dictionnaire \"paramètres\"\n",
    "    W1 = parameters['W1']\n",
    "    b1 = parameters['b1']\n",
    "    W2 = parameters['W2']\n",
    "    b2 = parameters['b2']\n",
    "    W3 = parameters['W3']\n",
    "    b3 = parameters['b3']\n",
    "    \n",
    "                                                                              # Numpy Equivalents:\n",
    "    Z1 = tf.add(tf.matmul(W1,X),b1)                                              # Z1 = np.dot(W1, X) + b1\n",
    "    A1 = tf.nn.relu(Z1)                                              # A1 = relu(Z1)\n",
    "    Z2 = tf.add(tf.matmul(W2,A1),b2)                                              # Z2 = np.dot(W2, A1) + b2\n",
    "    A2 = tf.nn.relu(Z2)                                              # A2 = relu(Z2)\n",
    "    Z3 = tf.add(tf.matmul(W3,A2),b3)                                               # Z3 = np.dot(W3, A2) + b3\n",
    "   \n",
    "    \n",
    "    return Z3"
   ]
  },
  {
   "cell_type": "code",
   "execution_count": 113,
   "metadata": {},
   "outputs": [
    {
     "name": "stdout",
     "output_type": "stream",
     "text": [
      "Z3 = Tensor(\"Add_2:0\", shape=(2, ?), dtype=float32)\n"
     ]
    }
   ],
   "source": [
    "tf.reset_default_graph()\n",
    "\n",
    "with tf.Session() as sess:\n",
    "    X, Y = create_placeholders(12288, 2)\n",
    "    parameters = initialize_parameters()\n",
    "    Z3 = forward_propagation(X, parameters)\n",
    "    print(\"Z3 = \" + str(Z3))"
   ]
  },
  {
   "cell_type": "markdown",
   "metadata": {},
   "source": [
    "### 4.4 Calculer le coût\n",
    "\n",
    "Comme vu précédemment, il est très facile de calculer le coût en utilisant :\n",
    "```python\n",
    "tf.reduce_mean(tf.nn.softmax_cross_entropy_with_logits(logits = ..., labels = ...))\n",
    "```\n",
    "**Question** : Implémentez la fonction de coût ci-dessous.\n",
    "- Il est important de savoir que les entrées \"`logits`\" et \"`labels`\" de `tf.nn.softmax_cross_entropy_with_logits` sont censées être de forme (nombre d'exemples, num_classes). Nous avons donc transposé pour vous Z3 et Y.\n",
    "- En outre, `tf.reduce_mean` fait essentiellement la sommation sur les exemples."
   ]
  },
  {
   "cell_type": "code",
   "execution_count": 114,
   "metadata": {},
   "outputs": [],
   "source": [
    "# FONCTION: compute_cost \n",
    "\n",
    "def compute_cost(Z3, Y):\n",
    "    \"\"\"\n",
    "     Calcule le coût\n",
    "    \n",
    "     Arguments:\n",
    "     Z3 -- sortie de propagation vers l'avant (sortie de la dernière unité LINÉAIRE), de forme (6, nombre d'exemples)\n",
    "     Y -- \"true\" étiquettes vecteur espace réservé, même forme que Z3\n",
    "    \n",
    "     Return:\n",
    "     cost - Tenseur de la fonction de coût\n",
    "     \"\"\"\n",
    "    \n",
    "   # pour s'adapter à l'exigence de tensorflow pour tf.nn.softmax_cross_entropy_with_logits(...,...)\n",
    "    logits = tf.transpose(Z3)\n",
    "    labels = tf.transpose(Y)\n",
    "    \n",
    "    \n",
    "    cost = tf.reduce_mean(tf.nn.softmax_cross_entropy_with_logits(logits=logits, labels=labels))\n",
    "   \n",
    "    \n",
    "    return cost"
   ]
  },
  {
   "cell_type": "code",
   "execution_count": 115,
   "metadata": {},
   "outputs": [
    {
     "name": "stdout",
     "output_type": "stream",
     "text": [
      "cost = Tensor(\"Mean:0\", shape=(), dtype=float32)\n"
     ]
    }
   ],
   "source": [
    "tf.reset_default_graph()\n",
    "\n",
    "with tf.Session() as sess:\n",
    "    X, Y = create_placeholders(12288, 6)\n",
    "    parameters = initialize_parameters()\n",
    "    Z3 = forward_propagation(X, parameters)\n",
    "    cost = compute_cost(Z3, Y)\n",
    "    print(\"cost = \" + str(cost))"
   ]
  },
  {
   "cell_type": "markdown",
   "metadata": {},
   "source": [
    "### 2.5 - Propagation vers l'arrière et mises à jour des paramètres\n",
    "\n",
    "C'est là que vous devenez reconnaissant envers les frameworks de programmation. Toute la rétropropagation et la mise à jour des paramètres sont prises en charge en 1 ligne de code. Il est très facile d'intégrer cette ligne dans le modèle.\n",
    "\n",
    "Après avoir calculé la fonction de coût. Vous allez créer un objet \"`optimiseur`\". Vous devez appeler cet objet avec le coût lors de l'exécution de tf.session. Lorsqu'il est appelé, il effectuera une optimisation sur le coût donné avec la méthode et le taux d'apprentissage choisis.\n",
    "\n",
    "Par exemple, pour la descente de gradient, l'optimiseur serait :\n",
    "```python\n",
    "optimiseur = tf.train.GradientDescentOptimizer(learning_rate = learning_rate).minimize(coût)\n",
    "```\n",
    "\n",
    "Pour faire l'optimisation, vous feriez:\n",
    "```python\n",
    "_ , c = sess.run([optimiseur, coût], feed_dict={X : minibatch_X, Y : minibatch_Y})\n",
    "```\n",
    "\n",
    "Cela calcule la rétropropagation en passant par le graphe tensorflow dans l'ordre inverse. Du coût aux intrants.\n",
    "\n",
    "**Remarque** Lors du codage, nous utilisons souvent `_` comme variable \"jetable\" pour stocker des valeurs que nous n'aurons pas besoin d'utiliser plus tard. Ici, `_` prend la valeur évaluée de `optimiseur`, dont nous n'avons pas besoin (et `c` prend la valeur de la variable `coût`)."
   ]
  },
  {
   "cell_type": "markdown",
   "metadata": {},
   "source": [
    "### 2.6 - Construction du modèle\n",
    "\n",
    "Maintenant, vous allez tout rassembler !\n",
    "\n",
    "**Exercice :** Mettre en œuvre le modèle. Vous appellerez les fonctions que vous aviez précédemment implémentées."
   ]
  },
  {
   "cell_type": "code",
   "execution_count": 116,
   "metadata": {},
   "outputs": [],
   "source": [
    "def load_dataset():\n",
    "    train_dataset = h5py.File('datasets/train_catvnoncat.h5', \"r\")\n",
    "    train_set_x_orig = np.array(train_dataset[\"train_set_x\"][:]) # vos caractéristiques d'entrainement\n",
    "    train_set_y_orig = np.array(train_dataset[\"train_set_y\"][:]) # vos labels d'entrainement\n",
    "\n",
    "    test_dataset = h5py.File('datasets/test_catvnoncat.h5', \"r\")\n",
    "    test_set_x_orig = np.array(test_dataset[\"test_set_x\"][:]) # vos caractéristiques de test\n",
    "    test_set_y_orig = np.array(test_dataset[\"test_set_y\"][:]) # vos labels de test\n",
    "\n",
    "    classes = np.array(test_dataset[\"list_classes\"][:]) # la liste de vos classes\n",
    "    \n",
    "    train_set_y_orig = train_set_y_orig.reshape((1, train_set_y_orig.shape[0]))\n",
    "    test_set_y_orig = test_set_y_orig.reshape((1, test_set_y_orig.shape[0]))\n",
    "    \n",
    "    return train_set_x_orig, train_set_y_orig, test_set_x_orig, test_set_y_orig, classes\n",
    "\n",
    "def random_mini_batches(X, Y, mini_batch_size = 64, seed = 0):\n",
    "    \"\"\"\n",
    "    Creates a list of random minibatches from (X, Y)\n",
    "    \n",
    "    Arguments:\n",
    "    X -- input data, of shape (input size, number of examples)\n",
    "    Y -- true \"label\" vector (containing 0 if cat, 1 if non-cat), of shape (1, number of examples)\n",
    "    mini_batch_size - size of the mini-batches, integer\n",
    "    seed -- this is only for the purpose of grading, so that you're \"random minibatches are the same as ours.\n",
    "    \n",
    "    Returns:\n",
    "    mini_batches -- list of synchronous (mini_batch_X, mini_batch_Y)\n",
    "    \"\"\"\n",
    "    \n",
    "    m = X.shape[1]                  # nombre d'exemples d'entrainement\n",
    "    mini_batches = []\n",
    "    np.random.seed(seed)\n",
    "    \n",
    "    # Etape 1: Mélanger (X, Y)\n",
    "    permutation = list(np.random.permutation(m))\n",
    "    shuffled_X = X[:, permutation]\n",
    "    shuffled_Y = Y[:, permutation].reshape((Y.shape[0],m))\n",
    "\n",
    "    # Etape 2: Partition (shuffled_X, shuffled_Y). Moins le cas final.\n",
    "    num_complete_minibatches = math.floor(m/mini_batch_size) # nombre de mini lots de taille mini_batch_size dans votre partitionnement\n",
    "    for k in range(0, num_complete_minibatches):\n",
    "        mini_batch_X = shuffled_X[:, k * mini_batch_size : k * mini_batch_size + mini_batch_size]\n",
    "        mini_batch_Y = shuffled_Y[:, k * mini_batch_size : k * mini_batch_size + mini_batch_size]\n",
    "        mini_batch = (mini_batch_X, mini_batch_Y)\n",
    "        mini_batches.append(mini_batch)\n",
    "    \n",
    "    # Gestion du cas final (dernier mini-lot < mini_batch_size)\n",
    "    if m % mini_batch_size != 0:\n",
    "        mini_batch_X = shuffled_X[:, num_complete_minibatches * mini_batch_size : m]\n",
    "        mini_batch_Y = shuffled_Y[:, num_complete_minibatches * mini_batch_size : m]\n",
    "        mini_batch = (mini_batch_X, mini_batch_Y)\n",
    "        mini_batches.append(mini_batch)\n",
    "    \n",
    "    return mini_batches\n",
    "\n",
    "def convert_to_one_hot(Y, C):\n",
    "    Y = np.eye(C)[Y.reshape(-1)].T\n",
    "    return Y\n",
    "\n",
    "\n",
    "def predict(X, parameters):\n",
    "    \n",
    "    W1 = tf.convert_to_tensor(parameters[\"W1\"])\n",
    "    b1 = tf.convert_to_tensor(parameters[\"b1\"])\n",
    "    W2 = tf.convert_to_tensor(parameters[\"W2\"])\n",
    "    b2 = tf.convert_to_tensor(parameters[\"b2\"])\n",
    "    W3 = tf.convert_to_tensor(parameters[\"W3\"])\n",
    "    b3 = tf.convert_to_tensor(parameters[\"b3\"])\n",
    "    \n",
    "    params = {\"W1\": W1,\n",
    "              \"b1\": b1,\n",
    "              \"W2\": W2,\n",
    "              \"b2\": b2,\n",
    "              \"W3\": W3,\n",
    "              \"b3\": b3}\n",
    "    \n",
    "    x = tf.placeholder(\"float\", [12288, 1])\n",
    "    \n",
    "    z3 = forward_propagation_for_predict(x, params)\n",
    "    p = tf.argmax(z3)\n",
    "    \n",
    "    sess = tf.Session()\n",
    "    prediction = sess.run(p, feed_dict = {x: X})\n",
    "        \n",
    "    return prediction\n",
    "\n",
    "def forward_propagation_for_predict(X, parameters):\n",
    "    \"\"\"\n",
    "    Implements the forward propagation for the model: LINEAR -> RELU -> LINEAR -> RELU -> LINEAR -> SOFTMAX\n",
    "    \n",
    "    Arguments:\n",
    "    X -- input dataset placeholder, of shape (input size, number of examples)\n",
    "    parameters -- python dictionary containing your parameters \"W1\", \"b1\", \"W2\", \"b2\", \"W3\", \"b3\"\n",
    "                  the shapes are given in initialize_parameters\n",
    "\n",
    "    Returns:\n",
    "    Z3 -- the output of the last LINEAR unit\n",
    "    \"\"\"\n",
    "    \n",
    "    # Récupérer les paramètres du dictionnaire \"paramètres\" \n",
    "    W1 = parameters['W1']\n",
    "    b1 = parameters['b1']\n",
    "    W2 = parameters['W2']\n",
    "    b2 = parameters['b2']\n",
    "    W3 = parameters['W3']\n",
    "    b3 = parameters['b3'] \n",
    "                                                           # Numpy Equivalents:\n",
    "    Z1 = tf.add(tf.matmul(W1, X), b1)                      # Z1 = np.dot(W1, X) + b1\n",
    "    A1 = tf.nn.relu(Z1)                                    # A1 = relu(Z1)\n",
    "    Z2 = tf.add(tf.matmul(W2, A1), b2)                     # Z2 = np.dot(W2, a1) + b2\n",
    "    A2 = tf.nn.relu(Z2)                                    # A2 = relu(Z2)\n",
    "    Z3 = tf.add(tf.matmul(W3, A2), b3)                     # Z3 = np.dot(W3,Z2) + b3\n",
    "    \n",
    "    return Z3\n",
    "    \n"
   ]
  },
  {
   "cell_type": "code",
   "execution_count": 118,
   "metadata": {},
   "outputs": [],
   "source": [
    "def model(X_train, Y_train, X_test, Y_test, learning_rate = 0.0001,\n",
    "          num_epochs = 1500, minibatch_size = 32, print_cost = True):\n",
    "    \"\"\"\n",
    "    Implements a three-layer tensorflow neural network: LINEAR->RELU->LINEAR->RELU->LINEAR->SOFTMAX.\n",
    "    \n",
    "    Arguments:\n",
    "    X_train -- training set, of shape (input size = 12288, number of training examples = 1080)\n",
    "    Y_train -- test set, of shape (output size = 6, number of training examples = 1080)\n",
    "    X_test -- training set, of shape (input size = 12288, number of training examples = 120)\n",
    "    Y_test -- test set, of shape (output size = 6, number of test examples = 120)\n",
    "    learning_rate -- learning rate of the optimization\n",
    "    num_epochs -- number of epochs of the optimization loop\n",
    "    minibatch_size -- size of a minibatch\n",
    "    print_cost -- True to print the cost every 100 epochs\n",
    "    \n",
    "    Returns:\n",
    "    parameters -- parameters learnt by the model. They can then be used to predict.\n",
    "    \"\"\"\n",
    "\n",
    "    ops.reset_default_graph()                         # pouvoir réexécuter le modèle sans écraser les variables tf\n",
    "    tf.set_random_seed(1)                             # pour garder des résultats cohérents\n",
    "    seed = 3                                          # pour garder des résultats cohérents\n",
    "    (n_x, m) = X_train.shape                          # (n_x: taille d'entrée, m : nombre d'exemples d'entrainement)\n",
    "    n_y = Y_train.shape[0]                            # n_y : taille de sortie\n",
    "    costs = []                                        # Pour suivre le coût\n",
    "    \n",
    "    # Créer des espaces réservés de forme (n_x, n_y)\n",
    "    \n",
    "    X, Y = create_placeholders(n_x, n_y)\n",
    "   \n",
    "    # Initialiser les paramètres\n",
    "    \n",
    "    parameters = initialize_parameters()\n",
    "   \n",
    "    \n",
    "    # Propagation vers l'avant:Construire la propagation vers l'avant dans le graphe tensorflow\n",
    "  \n",
    "    Z3 = forward_propagation(X, parameters)\n",
    "  \n",
    "    \n",
    "    # fonction Coût: Ajouter la fonction coût dans le graphe tensorflow \n",
    "   \n",
    "    cost = compute_cost(Z3, Y)\n",
    "  \n",
    "    \n",
    "    # Propagation vers l'arrière: Définir la fonction optimizer de tensorflow. Utiliser AdamOptimizer.\n",
    "  \n",
    "    optimizer = tf.train.AdamOptimizer(learning_rate = learning_rate).minimize(cost)\n",
    "  \n",
    "    \n",
    "    # Initializer toutes les variables\n",
    "    init = tf.global_variables_initializer()\n",
    "\n",
    "    # Démarrer la session pour calculer le graphe tensorflow\n",
    "    with tf.Session() as sess:\n",
    "        \n",
    "        # Exécuter l'initialisation\n",
    "        sess.run(init)\n",
    "        \n",
    "        # Faire la boucle d'entraînement\n",
    "        for epoch in range(num_epochs):\n",
    "\n",
    "            epoch_cost = 0.                       # Définit un coût lié à une époque\n",
    "            num_minibatches = int(m / minibatch_size) # nombre de minilots de taille minibatch_size dans la rame\n",
    "            seed = seed + 1\n",
    "            minibatches = random_mini_batches(X_train, Y_train, minibatch_size, seed)\n",
    "\n",
    "            for minibatch in minibatches:\n",
    "\n",
    "                # Sélectionnez un mini-lot\n",
    "                (minibatch_X, minibatch_Y) = minibatch\n",
    "                \n",
    "                # IMPORTANT : La ligne qui exécute le graphique sur un mini-lot.\n",
    "                 # Exécutez la session pour exécuter \"l'optimiseur\" et le \"coût\", le feeddict doit contenir un mini-lot pour (X,Y).\n",
    "               \n",
    "                _ , minibatch_cost = sess.run([optimizer, cost], feed_dict = {X :minibatch_X, Y: minibatch_Y})\n",
    "               \n",
    "                \n",
    "                epoch_cost += minibatch_cost / minibatch_size\n",
    "\n",
    "            # Afficher le coût à chaque époque\n",
    "            if print_cost == True and epoch % 100 == 0:\n",
    "                print (\"Cost after epoch %i: %f\" % (epoch, epoch_cost))\n",
    "            if print_cost == True and epoch % 5 == 0:\n",
    "                costs.append(epoch_cost)\n",
    "                \n",
    "        # Afficher le coût\n",
    "        plt.plot(np.squeeze(costs))\n",
    "        plt.ylabel('cost')\n",
    "        plt.xlabel('iterations (per fives)')\n",
    "        plt.title(\"Learning rate =\" + str(learning_rate))\n",
    "        plt.show()\n",
    "\n",
    "        # Sauvegardons les paramètres dans une variable\n",
    "        parameters = sess.run(parameters)\n",
    "        print (\"Parameters have been trained!\")\n",
    "\n",
    "        # Calculer les bonnes prédictions\n",
    "        correct_prediction = tf.equal(tf.argmax(Z3), tf.argmax(Y))\n",
    "\n",
    "        # Calculer la précision sur l'ensemble de test\n",
    "        accuracy = tf.reduce_mean(tf.cast(correct_prediction, \"float\"))\n",
    "\n",
    "        print (\"Train Accuracy:\", accuracy.eval({X: X_train, Y: Y_train}))\n",
    "        print (\"Test Accuracy:\", accuracy.eval({X: X_test, Y: Y_test}))\n",
    "        \n",
    "        return parameters"
   ]
  },
  {
   "cell_type": "code",
   "execution_count": 119,
   "metadata": {},
   "outputs": [
    {
     "name": "stdout",
     "output_type": "stream",
     "text": [
      "Cost after epoch 0: 0.153379\n",
      "Cost after epoch 100: 0.036149\n",
      "Cost after epoch 200: 0.006013\n",
      "Cost after epoch 300: 0.001824\n",
      "Cost after epoch 400: 0.000765\n",
      "Cost after epoch 500: 0.000402\n",
      "Cost after epoch 600: 0.000209\n",
      "Cost after epoch 700: 0.000117\n",
      "Cost after epoch 800: 0.000070\n",
      "Cost after epoch 900: 0.000044\n",
      "Cost after epoch 1000: 0.000027\n",
      "Cost after epoch 1100: 0.000018\n",
      "Cost after epoch 1200: 0.000011\n",
      "Cost after epoch 1300: 0.000007\n",
      "Cost after epoch 1400: 0.000005\n"
     ]
    },
    {
     "data": {
      "image/png": "[encoded data removed]",
      "text/plain": [
       "<Figure size 432x288 with 1 Axes>"
      ]
     },
     "metadata": {
      "needs_background": "light"
     },
     "output_type": "display_data"
    },
    {
     "name": "stdout",
     "output_type": "stream",
     "text": [
      "Parameters have been trained!\n",
      "Train Accuracy: 1.0\n",
      "Test Accuracy: 0.76\n"
     ]
    }
   ],
   "source": [
    "import math\n",
    "parameters = model(X_train, Y_train, X_test, Y_test)"
   ]
  },
  {
   "cell_type": "markdown",
   "metadata": {},
   "source": [
    "**Commentaire** : La précision de l'entraînement est proche de 100 %. Il s'agit d'un bon contrôle d'intégrité : votre modèle fonctionne et a une capacité suffisamment élevée pour s'adapter aux données d'entraînement. La précision du test est de 76%. Ce n'est en fait pas mal pour ce modèle simple, compte tenu du petit ensemble de données que nous avons utilisé et du fait que la régression logistique est un classificateur linéaire. Mais pas de soucis, vous construirez un classificateur encore meilleur la semaine prochaine !\n",
    "\n"
   ]
  },
  {
   "cell_type": "markdown",
   "metadata": {},
   "source": [
    "### IMPORTATION DES LIBRAIRIES"
   ]
  },
  {
   "cell_type": "code",
   "execution_count": 120,
   "metadata": {},
   "outputs": [],
   "source": [
    "import imageio\n",
    "import cv2"
   ]
  },
  {
   "cell_type": "code",
   "execution_count": 121,
   "metadata": {},
   "outputs": [
    {
     "data": {
      "text/plain": [
       "'3.4.2'"
      ]
     },
     "execution_count": 121,
     "metadata": {},
     "output_type": "execute_result"
    }
   ],
   "source": [
    "cv2.__version__"
   ]
  },
  {
   "cell_type": "markdown",
   "metadata": {},
   "source": [
    "### TEST AVEC DES IMAGES TELECHARGEES SUR INTERNET\n",
    "\n",
    "## 3 - Testez avec votre propre image  ##\n",
    "\n",
    "Félicitations vous êtes presque à la fin. Vous pouvez utiliser votre propre image et voir le résultat de votre modèle. Pour faire ça:\n",
    "     1. Cliquez sur « Fichier » dans la barre supérieure de ce carnet, puis cliquez sur « Ouvrir » pour accéder à votre dossier d'images.\n",
    "     2. Ajoutez votre image dans le répertoire de ce Jupyter Notebook, dans le dossier \"images\"\n",
    "     3. Changez le nom de votre image dans le code suivant\n",
    "     4. Exécutez le code et vérifiez si l'algorithme est correct (1 = chat, 0 = non-chat) !"
   ]
  },
  {
   "cell_type": "code",
   "execution_count": 122,
   "metadata": {},
   "outputs": [
    {
     "name": "stdout",
     "output_type": "stream",
     "text": [
      "Your algorithm predicts: y = 0\n"
     ]
    },
    {
     "data": {
      "image/png": "[encoded data removed]",
      "text/plain": [
       "<Figure size 432x288 with 1 Axes>"
      ]
     },
     "metadata": {
      "needs_background": "light"
     },
     "output_type": "display_data"
    }
   ],
   "source": [
    "\n",
    "\n",
    "my_image = \"la_defense.jpg\"\n",
    "\n",
    "\n",
    "# We preprocess your image to fit your algorithm.\n",
    "fname = \"images/\" + my_image\n",
    "image = np.array(imageio.imread(fname))\n",
    "image = image/255.\n",
    "my_image = cv2.resize(image, (64,64)).reshape((1, 64*64*3)).T\n",
    "my_image_prediction = predict(my_image, parameters)\n",
    "\n",
    "plt.imshow(image)\n",
    "print(\"Your algorithm predicts: y = \" + str(np.squeeze(my_image_prediction)))"
   ]
  },
  {
   "cell_type": "markdown",
   "metadata": {},
   "source": [
    "### TEST AVEC DES IMAGES PROVENANT DE L'ENSEMBLE DE TEST"
   ]
  },
  {
   "cell_type": "code",
   "execution_count": 123,
   "metadata": {},
   "outputs": [
    {
     "name": "stdout",
     "output_type": "stream",
     "text": [
      "y = 1.0, Your algorithm predicts: y = 1\n"
     ]
    },
    {
     "data": {
      "image/png": "[encoded data removed]",
      "text/plain": [
       "<Figure size 432x288 with 1 Axes>"
      ]
     },
     "metadata": {
      "needs_background": "light"
     },
     "output_type": "display_data"
    }
   ],
   "source": [
    "# Example of a picture that was wrongly classified.\n",
    "index=4\n",
    "plt.imshow(X_test[:,index].reshape((num_px, num_px, 3)))\n",
    "image =X_test[:,index].reshape((num_px, num_px, 3))/255.\n",
    "image = cv2.resize(image, (64,64)).reshape((1, 64*64*3)).T\n",
    "print (\"y = \" + str(Y_test[1,index]) + \", Your algorithm predicts: y = \" + str(np.squeeze(predict(image, parameters))))"
   ]
  },
  {
   "cell_type": "markdown",
   "metadata": {},
   "source": [
    "## Dans cette partie, nous testerons notre modèle en utilisant une interface graphique créée avec Tkinter"
   ]
  },
  {
   "cell_type": "markdown",
   "metadata": {},
   "source": [
    "**1) Importation des librairies ( pour importer une librairie on écrit import \"nom de la librairie\" as \"diminutif\"; pour importer un package spécifique à une librairie, on écrit from \"nom de la librairie\" import \"nom du package\")**\n",
    "- Importer la librairie tkinter comme tk : tkinter est l'une des librairies de python pour concevoir les interfaces graphiques.\n",
    "Exemple: import tkinter as tk\n",
    "- Importer le package filedialog de la librairie tkinter\n",
    "- Importer tous les packages de tkinter avec l'élément *\n",
    "- Importer les packages ImageTk et Image de la librairie PIL"
   ]
  },
  {
   "cell_type": "markdown",
   "metadata": {},
   "source": [
    "**Indication**: L'espace vide laissé avant le symbole \"#\" vous indique que vous devez ecrire un code avant ce symbole"
   ]
  },
  {
   "cell_type": "code",
   "execution_count": null,
   "metadata": {},
   "outputs": [],
   "source": [
    "import tkinter as tk                            # Importation de tkinter\n",
    "from tkinter import filedialog                            # Importation du package filedialog de la librairie tkinter\n",
    "from tkinter import *                             # Importation de tous les packages de tkinter\n",
    "from PIL import ImageTk, Image                             # Importation des packages ImageTk et Image de la librairie PIL\n",
    "import numpy                             # Importation de numpy"
   ]
  },
  {
   "cell_type": "markdown",
   "metadata": {},
   "source": [
    "### Exécuter la cellule suivante pour créer un dictionnaire"
   ]
  },
  {
   "cell_type": "code",
   "execution_count": 87,
   "metadata": {},
   "outputs": [],
   "source": [
    "#dictionnaire pour labelliser les classes de nos images\n",
    "classes = { 0:\"Ce n'est pas un chat\",\n",
    "            1:\"C'est un chat\" \n",
    " }\n"
   ]
  },
  {
   "cell_type": "markdown",
   "metadata": {},
   "source": [
    "### Exécuter la cellule suivante pour initialiser Tkinter"
   ]
  },
  {
   "cell_type": "code",
   "execution_count": 88,
   "metadata": {},
   "outputs": [],
   "source": [
    "#initialise GUI\n",
    "top=tk.Tk()\n",
    "top.geometry('800x600')\n",
    "top.title('Classification des images')\n",
    "top.configure(background='#CDCDCD')\n",
    "\n",
    "label=Label(top,background='#CDCDCD', font=('arial',15,'bold'))\n",
    "sign_image = Label(top)"
   ]
  },
  {
   "cell_type": "markdown",
   "metadata": {},
   "source": [
    "### Exécuter la cellule suivante pour créer la fonction classify qui appelera notre modèle pour la prédiction"
   ]
  },
  {
   "cell_type": "code",
   "execution_count": 89,
   "metadata": {},
   "outputs": [],
   "source": [
    "def classify(file_path):\n",
    "    global label_packed\n",
    "    image = Image.open(file_path)\n",
    "    image = image.resize((64, 64))\n",
    "    image = numpy.expand_dims(image, axis=0)\n",
    "    image = numpy.array(image)\n",
    "    image = image.reshape((1, 64*64*3)).T\n",
    "    pred = int(np.squeeze(predict(image, parameters)))\n",
    "    sign = classes[pred]\n",
    "    print(sign)\n",
    "    label.configure(foreground='#011638', text=sign) \n"
   ]
  },
  {
   "cell_type": "markdown",
   "metadata": {},
   "source": [
    "### La fonction suivante permet un bouton \"Classifier l'image qui appelera notre fonction \"classify\" que nous avons créer plus haut"
   ]
  },
  {
   "cell_type": "code",
   "execution_count": 90,
   "metadata": {},
   "outputs": [],
   "source": [
    "def show_classify_button(file_path):\n",
    "    classify_b=Button(top,text=\"Classifier l'Image\",command=lambda: classify(file_path),padx=10,pady=5)\n",
    "    classify_b.configure(background='#364156', foreground='white',font=('arial',10,'bold'))\n",
    "    classify_b.place(relx=0.79,rely=0.46)"
   ]
  },
  {
   "cell_type": "markdown",
   "metadata": {},
   "source": [
    "### Pour avoir accès au repertoire de votre machine pour choisir l'une des images que vous avez télécharger en ligne,, nous devons créer une fonction upload_image. Exécuter le code suivant pour le faire "
   ]
  },
  {
   "cell_type": "code",
   "execution_count": 91,
   "metadata": {},
   "outputs": [],
   "source": [
    "def upload_image():\n",
    "    try:\n",
    "        file_path=filedialog.askopenfilename()\n",
    "        uploaded=Image.open(file_path)\n",
    "        uploaded.thumbnail(((top.winfo_width()/2.25),(top.winfo_height()/2.25)))\n",
    "        im=ImageTk.PhotoImage(uploaded)\n",
    "\n",
    "        sign_image.configure(image=im)\n",
    "        sign_image.image=im\n",
    "        label.configure(text='')\n",
    "        show_classify_button(file_path)\n",
    "    except:\n",
    "        pass\n"
   ]
  },
  {
   "cell_type": "markdown",
   "metadata": {},
   "source": [
    "### Exécuter le code suivant pour avoir accès à l'interface graphique et faire vos tests."
   ]
  },
  {
   "cell_type": "code",
   "execution_count": 92,
   "metadata": {},
   "outputs": [
    {
     "name": "stdout",
     "output_type": "stream",
     "text": [
      "C'est un chat\n"
     ]
    }
   ],
   "source": [
    "\n",
    "upload=Button(top,text=\"Charger une image\",command=upload_image,padx=10,pady=5)\n",
    "upload.configure(background='#364156', foreground='white',font=('arial',10,'bold'))\n",
    "\n",
    "upload.pack(side=BOTTOM,pady=50)\n",
    "sign_image.pack(side=BOTTOM,expand=True)\n",
    "label.pack(side=BOTTOM,expand=True)\n",
    "heading = Label(top, text=\"Connaitre la natuure de l'image\",pady=20, font=('arial',20,'bold'))\n",
    "heading.configure(background='#CDCDCD',foreground='#364156')\n",
    "heading.pack()\n",
    "top.mainloop()"
   ]
  }
 ],
 "metadata": {
  "coursera": {
   "course_slug": "neural-networks-deep-learning",
   "graded_item_id": "XaIWT",
   "launcher_item_id": "zAgPl"
  },
  "kernelspec": {
   "display_name": "Python 3",
   "language": "python",
   "name": "python3"
  },
  "language_info": {
   "codemirror_mode": {
    "name": "ipython",
    "version": 3
   },
   "file_extension": ".py",
   "mimetype": "text/x-python",
   "name": "python",
   "nbconvert_exporter": "python",
   "pygments_lexer": "ipython3",
   "version": "3.6.10"
  }
 },
 "nbformat": 4,
 "nbformat_minor": 2
}
